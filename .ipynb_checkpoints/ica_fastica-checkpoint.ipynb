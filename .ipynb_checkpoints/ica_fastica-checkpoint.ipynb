{
 "cells": [
  {
   "cell_type": "code",
   "execution_count": 12,
   "id": "c0dd83e3",
   "metadata": {},
   "outputs": [],
   "source": [
    "import numpy as np\n",
    "import matplotlib.pyplot as plt\n",
    "from sklearn.decomposition import FastICA\n",
    "import os\n",
    "import nibabel as nib"
   ]
  },
  {
   "cell_type": "code",
   "execution_count": 2,
   "id": "239f7990",
   "metadata": {},
   "outputs": [],
   "source": [
    "mixture = np.load('mixture.npy')"
   ]
  },
  {
   "cell_type": "code",
   "execution_count": 4,
   "id": "8d419457",
   "metadata": {},
   "outputs": [],
   "source": [
    "transformer = FastICA(n_components=50, random_state=0, whiten='unit-variance')"
   ]
  },
  {
   "cell_type": "code",
   "execution_count": 6,
   "id": "b445b8a5",
   "metadata": {},
   "outputs": [],
   "source": [
    "X_transformed = transformer.fit_transform(mixture.T)"
   ]
  },
  {
   "cell_type": "code",
   "execution_count": 7,
   "id": "5279aba6",
   "metadata": {},
   "outputs": [
    {
     "data": {
      "text/plain": [
       "(173628, 50)"
      ]
     },
     "execution_count": 7,
     "metadata": {},
     "output_type": "execute_result"
    }
   ],
   "source": [
    "X_transformed.shape"
   ]
  },
  {
   "cell_type": "code",
   "execution_count": 10,
   "id": "d9a6d04b",
   "metadata": {},
   "outputs": [],
   "source": [
    "X_transformed = X_transformed.reshape(53,63,52,50)"
   ]
  },
  {
   "cell_type": "code",
   "execution_count": 13,
   "id": "3b1919e4",
   "metadata": {},
   "outputs": [],
   "source": [
    "data_id = os.listdir('/data/qneuromark/Data/FBIRN/Data_BIDS/Raw_Data/')\n",
    "path_list = []\n",
    "for i in data_id:\n",
    "    nii_path = '/data/qneuromark/Data/FBIRN/Data_BIDS/Raw_Data/' + i + '/ses_01/func/SM.nii'\n",
    "    path_list.append(nii_path)\n",
    "b = nib.load(path_list[2])"
   ]
  },
  {
   "cell_type": "code",
   "execution_count": 14,
   "id": "45e5f272",
   "metadata": {},
   "outputs": [],
   "source": [
    "# b = nib.load(path_list[2])\n",
    "# nifiti = np.array(a)\n",
    "new_image = nib.Nifti1Image(X_transformed, affine=b.affine, header=b.header)\n",
    "# nib.save(new_image, 'mri_data/adam_meanNN_' + str(dims_remain) +'_' + str(batch_size) + 'batch')\n",
    "nib.save(new_image, 'fastica.nii')"
   ]
  },
  {
   "cell_type": "code",
   "execution_count": null,
   "id": "348be070",
   "metadata": {},
   "outputs": [],
   "source": []
  }
 ],
 "metadata": {
  "kernelspec": {
   "display_name": "Python 3 (ipykernel)",
   "language": "python",
   "name": "python3"
  },
  "language_info": {
   "codemirror_mode": {
    "name": "ipython",
    "version": 3
   },
   "file_extension": ".py",
   "mimetype": "text/x-python",
   "name": "python",
   "nbconvert_exporter": "python",
   "pygments_lexer": "ipython3",
   "version": "3.7.16"
  }
 },
 "nbformat": 4,
 "nbformat_minor": 5
}
