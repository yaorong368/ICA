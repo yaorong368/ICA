{
 "cells": [
  {
   "cell_type": "code",
   "execution_count": 3,
   "id": "ff893afc",
   "metadata": {},
   "outputs": [],
   "source": [
    "import numpy as np\n",
    "import torch\n",
    "import nibabel as nib\n",
    "from modules.util import entropyLoss, getdata, infomaxICA, entropy"
   ]
  },
  {
   "cell_type": "code",
   "execution_count": 21,
   "id": "e2728e80",
   "metadata": {},
   "outputs": [],
   "source": [
    "knn = nib.load('./mri_data/knn.nii')\n",
    "icaica = nib.load('./mri_data/icaica1_50.nii')"
   ]
  },
  {
   "cell_type": "code",
   "execution_count": 22,
   "id": "60ab424b",
   "metadata": {},
   "outputs": [],
   "source": [
    "knn = np.asanyarray(knn.dataobj)\n",
    "icaica = np.asanyarray(icaica.dataobj)"
   ]
  },
  {
   "cell_type": "code",
   "execution_count": 23,
   "id": "229e4c6e",
   "metadata": {},
   "outputs": [],
   "source": [
    "knn = torch.tensor(knn.reshape(53*63*52, 50))\n",
    "icaica = torch.tensor(np.array(icaica.reshape(53*63*52, 50)))"
   ]
  },
  {
   "cell_type": "code",
   "execution_count": 28,
   "id": "199032f6",
   "metadata": {},
   "outputs": [],
   "source": [
    "knns = torch.sigmoid(knn)\n",
    "icaicas = torch.sigmoid(icaica)"
   ]
  },
  {
   "cell_type": "code",
   "execution_count": 36,
   "id": "1f7e0afd",
   "metadata": {},
   "outputs": [],
   "source": [
    "k=3"
   ]
  },
  {
   "cell_type": "code",
   "execution_count": null,
   "id": "2933b14d",
   "metadata": {},
   "outputs": [],
   "source": [
    "entropy(knns, k=k)"
   ]
  },
  {
   "cell_type": "code",
   "execution_count": null,
   "id": "9d447643",
   "metadata": {},
   "outputs": [],
   "source": [
    "entropy(icaicas, k=k)"
   ]
  },
  {
   "cell_type": "code",
   "execution_count": null,
   "id": "4543ec7d",
   "metadata": {},
   "outputs": [],
   "source": []
  }
 ],
 "metadata": {
  "kernelspec": {
   "display_name": "Python 3 (ipykernel)",
   "language": "python",
   "name": "python3"
  },
  "language_info": {
   "codemirror_mode": {
    "name": "ipython",
    "version": 3
   },
   "file_extension": ".py",
   "mimetype": "text/x-python",
   "name": "python",
   "nbconvert_exporter": "python",
   "pygments_lexer": "ipython3",
   "version": "3.7.16"
  }
 },
 "nbformat": 4,
 "nbformat_minor": 5
}
