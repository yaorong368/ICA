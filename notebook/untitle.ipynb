{
 "cells": [
  {
   "cell_type": "code",
   "execution_count": null,
   "id": "4c386f20",
   "metadata": {},
   "outputs": [],
   "source": [
    "import numpy as np\n",
    "import torch\n",
    "\n",
    "\n",
    "import matplotlib.pyplot as plt"
   ]
  },
  {
   "cell_type": "code",
   "execution_count": null,
   "id": "405e4e63",
   "metadata": {},
   "outputs": [],
   "source": [
    "opt = torch.rand(1000,50)\n",
    "ipt_batch = torch.rand(1000,50)"
   ]
  },
  {
   "cell_type": "code",
   "execution_count": null,
   "id": "04fb05b0",
   "metadata": {
    "scrolled": true
   },
   "outputs": [],
   "source": [
    "torch.norm(opt,dim=0)"
   ]
  },
  {
   "cell_type": "code",
   "execution_count": null,
   "id": "29037564",
   "metadata": {},
   "outputs": [],
   "source": []
  },
  {
   "cell_type": "code",
   "execution_count": null,
   "id": "b01f9a83",
   "metadata": {},
   "outputs": [],
   "source": [
    "\n",
    "def infonce(opt, ipt_batch, t=100):\n",
    "    \n",
    "    _, d = opt.shape\n",
    "    Ln = 0\n",
    "    for i in range(d):\n",
    "        \n",
    "        index = [x for x in range(d) if x!=i]\n",
    "        a = [torch.exp(torch.norm(ipt_batch.T@opt[:, k:k+1])/t) for k in index]\n",
    "        denominator = torch.stack(a).sum() + 1e-12\n",
    "\n",
    "        numerator = torch.exp(torch.norm(ipt_batch.T@opt[:, i:i+1])/t)\n",
    "        Ln += torch.log(numerator/denominator)\n",
    "    return Ln.sum()/d"
   ]
  },
  {
   "cell_type": "code",
   "execution_count": null,
   "id": "9c0a0023",
   "metadata": {},
   "outputs": [],
   "source": [
    "def infonce1(opt, ipt_batch, t=100):\n",
    "    \n",
    "    _, d = opt.shape\n",
    "    \n",
    "    Ln = 0\n",
    "    for i in range(d):\n",
    "        index = [x for x in range(d) if x!=i]\n",
    "        denominator = torch.exp(torch.norm(ipt_batch.T@opt[:, index], dim=0)/t).sum() + 1e-12\n",
    "        \n",
    "        numerator = torch.exp(torch.norm(ipt_batch.T@opt[:, i:i+1])/t)\n",
    "        Ln += torch.log(numerator/denominator)\n",
    "    return Ln.sum()/d"
   ]
  },
  {
   "cell_type": "code",
   "execution_count": null,
   "id": "194e833e",
   "metadata": {},
   "outputs": [],
   "source": [
    "def infonce2(opt, ipt_batch, t=100):\n",
    "    \n",
    "    _, d = opt.shape\n",
    "    \n",
    "    f = torch.exp(torch.norm(ipt_batch.T@opt, dim=0)/t)\n",
    "    Ln = 0\n",
    "    for i in range(d):\n",
    "        index = [x for x in range(d) if x!=i]\n",
    "        denominator = f[index].sum() + 1e-12\n",
    "        \n",
    "        numerator = f[i]\n",
    "        Ln += torch.log(numerator/denominator)\n",
    "    return Ln.sum()/d"
   ]
  },
  {
   "cell_type": "code",
   "execution_count": null,
   "id": "b5e3fb8f",
   "metadata": {},
   "outputs": [],
   "source": [
    "def infonce3(opt, ipt_batch, t=100):\n",
    "    \n",
    "    _, d = opt.shape\n",
    "    \n",
    "    f = torch.norm(ipt_batch.T@opt, dim=0)\n",
    "    Ln = 0\n",
    "    for i in range(d):\n",
    "        index = [x for x in range(d) if x!=i]\n",
    "        denominator = torch.exp(f[index]/t).sum() + 1e-12\n",
    "        \n",
    "        numerator = torch.exp(f[i]/t)\n",
    "        Ln += torch.log(numerator/denominator)\n",
    "    return Ln.sum()/d"
   ]
  },
  {
   "cell_type": "code",
   "execution_count": null,
   "id": "2dd83abf",
   "metadata": {},
   "outputs": [],
   "source": [
    "infonce(opt, ipt_batch)"
   ]
  },
  {
   "cell_type": "code",
   "execution_count": null,
   "id": "0bde3436",
   "metadata": {},
   "outputs": [],
   "source": [
    "infonce3(opt,ipt_batch)"
   ]
  },
  {
   "cell_type": "code",
   "execution_count": null,
   "id": "4fa02eb4",
   "metadata": {},
   "outputs": [],
   "source": [
    "infonce2(opt, ipt_batch)"
   ]
  },
  {
   "cell_type": "code",
   "execution_count": null,
   "id": "51328e01",
   "metadata": {},
   "outputs": [],
   "source": []
  },
  {
   "cell_type": "code",
   "execution_count": null,
   "id": "56366355",
   "metadata": {},
   "outputs": [],
   "source": []
  },
  {
   "cell_type": "code",
   "execution_count": null,
   "id": "caef3f75",
   "metadata": {},
   "outputs": [],
   "source": []
  },
  {
   "cell_type": "code",
   "execution_count": null,
   "id": "f9cfb223",
   "metadata": {},
   "outputs": [],
   "source": []
  },
  {
   "cell_type": "code",
   "execution_count": null,
   "id": "519f3da8",
   "metadata": {},
   "outputs": [],
   "source": []
  },
  {
   "cell_type": "code",
   "execution_count": null,
   "id": "7f9c7e04",
   "metadata": {},
   "outputs": [],
   "source": [
    "import torch\n",
    "\n",
    "def least_squares_slope_ratio(x_tensor, y_tensor):\n",
    "    # Convert input data to PyTorch tensors\n",
    "#     x_tensor = torch.tensor(x, dtype=torch.float32)\n",
    "#     y_tensor = torch.tensor(y, dtype=torch.float32)\n",
    "    \n",
    "    # Calculate the mean of x and y\n",
    "    x_mean = torch.mean(x_tensor)\n",
    "    y_mean = torch.mean(y_tensor)\n",
    "    \n",
    "    # Calculate the covariance and variance\n",
    "    covariance = torch.mean((x_tensor - x_mean) * (y_tensor - y_mean))\n",
    "    x_variance = torch.mean((x_tensor - x_mean) ** 2)\n",
    "    \n",
    "    # Estimate the slope 'a'\n",
    "    slope = covariance / x_variance\n",
    "    \n",
    "    # Calculate the intercept 'b'\n",
    "    intercept = y_mean - slope * x_mean\n",
    "    \n",
    "    return slope.item(), intercept.item()  # Convert results to Python floats\n",
    "\n"
   ]
  },
  {
   "cell_type": "code",
   "execution_count": null,
   "id": "ede0430d",
   "metadata": {},
   "outputs": [],
   "source": [
    "# Example usage:\n",
    "x_data = torch.rand(1000).to(torch.float32)\n",
    "y_data = torch.rand(1000).to(torch.float32)\n",
    "\n",
    "slope, intercept = least_squares_slope_ratio(x_data, y_data)\n",
    "print(\"Estimated Slope (a):\", slope)\n",
    "print(\"Estimated Intercept (b):\", intercept)\n"
   ]
  },
  {
   "cell_type": "code",
   "execution_count": null,
   "id": "b4a0c08d",
   "metadata": {},
   "outputs": [],
   "source": [
    "def calculate_ols_slope(opt):\n",
    "    \n",
    "    # Calculate the OLS coefficients\n",
    "    X_mean = torch.mean(opt[:,0])\n",
    "    Y_mean = torch.mean(opt[:,1])\n",
    "    \n",
    "    num = torch.sum((X - X_mean) * (Y - Y_mean))\n",
    "    den = torch.sum((X - X_mean) ** 2)\n",
    "    \n",
    "    slope = num / den\n",
    "    \n",
    "    return slope"
   ]
  },
  {
   "cell_type": "code",
   "execution_count": null,
   "id": "06b5a6e9",
   "metadata": {},
   "outputs": [],
   "source": [
    "xy = torch.stack([x_data, y_data])"
   ]
  },
  {
   "cell_type": "code",
   "execution_count": null,
   "id": "92e83ebd",
   "metadata": {},
   "outputs": [],
   "source": [
    "calculate_ols_slope(xy)"
   ]
  },
  {
   "cell_type": "code",
   "execution_count": null,
   "id": "860b68bd",
   "metadata": {},
   "outputs": [],
   "source": [
    "a = torch.corrcoef(torch.rand(10,100))\n",
    "print(a)"
   ]
  },
  {
   "cell_type": "code",
   "execution_count": null,
   "id": "65fe9c86",
   "metadata": {},
   "outputs": [],
   "source": [
    "import torch"
   ]
  },
  {
   "cell_type": "code",
   "execution_count": null,
   "id": "2980d287",
   "metadata": {},
   "outputs": [],
   "source": [
    "opt = torch.randn(1000,10)"
   ]
  },
  {
   "cell_type": "code",
   "execution_count": null,
   "id": "ec83cef6",
   "metadata": {},
   "outputs": [],
   "source": [
    "def kurtosis(opt):\n",
    "    # Calculate the mean and standard deviation of the data\n",
    "    mean = torch.mean(opt, axis=0)\n",
    "    std = torch.std(opt, axis=0)\n",
    "\n",
    "    # Calculate the fourth central moment (raw kurtosis)\n",
    "    fourth_moment = torch.mean(((opt - mean)/std)**4, axis=0)\n",
    "\n",
    "\n",
    "\n",
    "    return torch.mean(fourth_moment)"
   ]
  },
  {
   "cell_type": "code",
   "execution_count": null,
   "id": "be1bfe68",
   "metadata": {},
   "outputs": [],
   "source": [
    "kurtosis(opt)"
   ]
  },
  {
   "cell_type": "code",
   "execution_count": null,
   "id": "6620b50e",
   "metadata": {},
   "outputs": [],
   "source": [
    "import nibabel as nib\n",
    "import numpy as np"
   ]
  },
  {
   "cell_type": "code",
   "execution_count": null,
   "id": "70433e6e",
   "metadata": {},
   "outputs": [],
   "source": []
  },
  {
   "cell_type": "code",
   "execution_count": null,
   "id": "974db9fb",
   "metadata": {},
   "outputs": [],
   "source": [
    "nifi = np.array(nib.load('../mri_data/fastica.nii').dataobj)"
   ]
  },
  {
   "cell_type": "code",
   "execution_count": null,
   "id": "652112c4",
   "metadata": {},
   "outputs": [],
   "source": [
    "a = nifi.reshape(53*63*52, 50)"
   ]
  },
  {
   "cell_type": "code",
   "execution_count": null,
   "id": "2e868557",
   "metadata": {},
   "outputs": [],
   "source": [
    "x = (a - a.mean(axis=0))/a.std(axis=0)"
   ]
  },
  {
   "cell_type": "code",
   "execution_count": null,
   "id": "d5b1dc5d",
   "metadata": {},
   "outputs": [],
   "source": [
    "nifiti = x.reshape(53,63,52,50)"
   ]
  },
  {
   "cell_type": "code",
   "execution_count": null,
   "id": "cca17d6e",
   "metadata": {},
   "outputs": [],
   "source": [
    "data_id = os.listdir('/data/qneuromark/Data/FBIRN/Data_BIDS/Raw_Data/')\n",
    "path_list = []\n",
    "for i in data_id:\n",
    "    nii_path = '/data/qneuromark/Data/FBIRN/Data_BIDS/Raw_Data/' + i + '/ses_01/func/SM.nii'\n",
    "    path_list.append(nii_path)\n",
    "    \n",
    "b = nib.load(path_list[2])\n",
    "new_image = nib.Nifti1Image(nifiti, affine=b.affine, header=b.header)\n",
    "nib.save(new_image, '/data/users2/yxiao11/model/ICA/mri_data/fastica.nii')"
   ]
  },
  {
   "cell_type": "code",
   "execution_count": null,
   "id": "8e3b15ec",
   "metadata": {},
   "outputs": [],
   "source": []
  },
  {
   "cell_type": "code",
   "execution_count": null,
   "id": "75eae42d",
   "metadata": {},
   "outputs": [],
   "source": []
  },
  {
   "cell_type": "code",
   "execution_count": null,
   "id": "4510d1eb",
   "metadata": {},
   "outputs": [],
   "source": [
    "import torch"
   ]
  },
  {
   "cell_type": "code",
   "execution_count": null,
   "id": "8f11ed5a",
   "metadata": {},
   "outputs": [],
   "source": [
    "def my_loss(data):\n",
    "    \"\"\"\n",
    "    Compute the kurtosis of a set of data using PyTorch.\n",
    "\n",
    "    Args:\n",
    "    data (torch.Tensor): A 1D tensor containing the data.\n",
    "\n",
    "    Returns:\n",
    "    float: The kurtosis of the data.\n",
    "    \"\"\"\n",
    "    # Calculate the mean and standard deviation of the data\n",
    "    mean = torch.mean(data, axis=0)\n",
    "    std = torch.std(data, axis=0)\n",
    "\n",
    "    # Calculate the fourth central moment (raw kurtosis)\n",
    "    fourth_moment = torch.mean((data - mean)**4, axis=0)\n",
    "\n",
    "    # Calculate the kurtosis using the fourth central moment\n",
    "    n = data.size(0)\n",
    "    kurtosis = fourth_moment / (std**4) - 3.0\n",
    "\n",
    "    return torch.sum(-kurtosis**2)\n",
    "#     return kurtosis"
   ]
  },
  {
   "cell_type": "code",
   "execution_count": null,
   "id": "a7a6f3aa",
   "metadata": {},
   "outputs": [],
   "source": [
    "def kurtosis(opt):\n",
    "    # Calculate the mean and standard deviation of the data\n",
    "    mean = torch.mean(opt, axis=0)\n",
    "    std = torch.std(opt, axis=0)\n",
    "\n",
    "    # Calculate the fourth central moment (raw kurtosis)\n",
    "    kurtosis = torch.mean(((opt-mean)/std)**4, axis=0)-3\n",
    "    return torch.mean(kurtosis)\n",
    "#     # Calculate the kurtosis using the fourth central moment\n",
    "\n",
    "#     kurtosis = fourth_moment / (std**4) - 3.0\n",
    "\n",
    "#     return torch.mean(-kurtosis**2)\n",
    "# #     return kurtosis"
   ]
  },
  {
   "cell_type": "code",
   "execution_count": null,
   "id": "878e0748",
   "metadata": {},
   "outputs": [],
   "source": [
    "x = torch.randn(10000,1)"
   ]
  },
  {
   "cell_type": "code",
   "execution_count": null,
   "id": "7050f754",
   "metadata": {},
   "outputs": [],
   "source": [
    "my_loss(x)"
   ]
  },
  {
   "cell_type": "code",
   "execution_count": null,
   "id": "e2e3f238",
   "metadata": {},
   "outputs": [],
   "source": [
    "kurtosis(x)"
   ]
  },
  {
   "cell_type": "code",
   "execution_count": null,
   "id": "167a396e",
   "metadata": {},
   "outputs": [],
   "source": []
  },
  {
   "cell_type": "code",
   "execution_count": null,
   "id": "04f4b26a",
   "metadata": {},
   "outputs": [],
   "source": []
  },
  {
   "cell_type": "code",
   "execution_count": null,
   "id": "be8c2897",
   "metadata": {},
   "outputs": [],
   "source": [
    "import os\n",
    "import nibabel as nib\n",
    "import numpy as np\n"
   ]
  },
  {
   "cell_type": "code",
   "execution_count": null,
   "id": "7c75a163",
   "metadata": {
    "scrolled": true
   },
   "outputs": [],
   "source": [
    "mixture = get_mixture(path_list, 50)"
   ]
  },
  {
   "cell_type": "code",
   "execution_count": null,
   "id": "1f10b38b",
   "metadata": {},
   "outputs": [],
   "source": [
    "mixture.shape"
   ]
  },
  {
   "cell_type": "code",
   "execution_count": null,
   "id": "6a164890",
   "metadata": {},
   "outputs": [],
   "source": [
    "import numpy as np\n",
    "from numpy import dot\n",
    "from numpy.linalg import matrix_rank, inv\n",
    "from numpy.random import permutation\n",
    "from scipy.linalg import eigh\n",
    "from scipy.linalg import norm as mnorm\n",
    "import ica"
   ]
  },
  {
   "cell_type": "code",
   "execution_count": null,
   "id": "d01dbfe2",
   "metadata": {},
   "outputs": [],
   "source": [
    "data_id = os.listdir('/data/qneuromark/Data/FBIRN/Data_BIDS/Raw_Data/')\n",
    "path_list = []\n",
    "for i in data_id:\n",
    "    nii_path = '/data/qneuromark/Data/FBIRN/Data_BIDS/Raw_Data/' + i + '/ses_01/func/SM.nii'\n",
    "    path_list.append(nii_path)\n",
    "    \n",
    "def get_mixture(path_list, dims_remain):\n",
    "    print('getting file:', 0)\n",
    "    mri = nib.load(path_list[0])\n",
    "    data = np.asanyarray(mri.dataobj)\n",
    "    list_x = []\n",
    "    for j in range(int(data.shape[-1])):\n",
    "        list_x.append(np.expand_dims(data[:,:,:,j].flatten(),1))\n",
    "    mixture = np.concatenate(list_x,axis=1).T\n",
    "    \n",
    "    for i in range(1, 5):\n",
    "        print('getting file:', i)\n",
    "        mri = nib.load(path_list[i])\n",
    "        data = np.asanyarray(mri.dataobj)\n",
    "        list_x = []\n",
    "        for j in range(int(data.shape[-1])):\n",
    "            list_x.append(np.expand_dims(data[:,:,:,j].flatten(),1))\n",
    "\n",
    "        conc_x = np.concatenate(list_x,axis=1)\n",
    "        mixture = np.concatenate((mixture, conc_x.T), axis=0)\n",
    "        \n",
    "    del mri, data, list_x, conc_x\n",
    "#     mixture = np.float64(mixture.T)\n",
    "    print('the shape of mixture is:', mixture.shape)\n",
    "    print('whitening')\n",
    "    mixture, white, dewhite = ica.pca_whiten(mixture, dims_remain)\n",
    "    mixture = torch.from_numpy(mixture).type(torch.float32)\n",
    "    print('done')\n",
    "    return mixture, white, dewhite"
   ]
  },
  {
   "cell_type": "code",
   "execution_count": null,
   "id": "51dfd196",
   "metadata": {},
   "outputs": [],
   "source": []
  },
  {
   "cell_type": "code",
   "execution_count": null,
   "id": "48ea78cd",
   "metadata": {},
   "outputs": [],
   "source": [
    "myfmri = np.asanyarray(nib.load('/data/users2/yxiao11/SM.nii').dataobj)"
   ]
  },
  {
   "cell_type": "code",
   "execution_count": null,
   "id": "134a997d",
   "metadata": {},
   "outputs": [],
   "source": [
    "myfmri.shape"
   ]
  },
  {
   "cell_type": "code",
   "execution_count": null,
   "id": "fe6b0079",
   "metadata": {},
   "outputs": [],
   "source": [
    "for i in range(16):\n",
    "    plt.subplot(4,4,i+1)\n",
    "    plt.imshow(mixture[10,:].reshape(53,63,52)[:,:,26])"
   ]
  },
  {
   "cell_type": "code",
   "execution_count": null,
   "id": "54b50bfe",
   "metadata": {},
   "outputs": [],
   "source": []
  },
  {
   "cell_type": "code",
   "execution_count": null,
   "id": "d08a75e8",
   "metadata": {},
   "outputs": [],
   "source": []
  },
  {
   "cell_type": "code",
   "execution_count": 16,
   "id": "4d494fb8",
   "metadata": {},
   "outputs": [],
   "source": [
    "import nibabel as nib\n",
    "import numpy as np\n",
    "import os"
   ]
  },
  {
   "cell_type": "code",
   "execution_count": 29,
   "id": "a10a1ffe",
   "metadata": {},
   "outputs": [],
   "source": [
    "mri = np.asanyarray(nib.load('../mri_data/infonce50.nii').dataobj)"
   ]
  },
  {
   "cell_type": "code",
   "execution_count": 30,
   "id": "e2f64c93",
   "metadata": {},
   "outputs": [
    {
     "data": {
      "text/plain": [
       "(53, 63, 52, 50)"
      ]
     },
     "execution_count": 30,
     "metadata": {},
     "output_type": "execute_result"
    }
   ],
   "source": [
    "mri.shape"
   ]
  },
  {
   "cell_type": "code",
   "execution_count": 31,
   "id": "f8c8a854",
   "metadata": {},
   "outputs": [],
   "source": [
    "mri = mri.reshape(53*63*52, 50).T"
   ]
  },
  {
   "cell_type": "code",
   "execution_count": 32,
   "id": "1ea7198d",
   "metadata": {},
   "outputs": [],
   "source": [
    "from sklearn import preprocessing"
   ]
  },
  {
   "cell_type": "code",
   "execution_count": 33,
   "id": "83d222e7",
   "metadata": {},
   "outputs": [],
   "source": [
    "mri = preprocessing.StandardScaler().fit_transform(mri.T)\n",
    "mri = (np.diag(1/np.abs(mri.T).max(axis=1))@mri.T).astype('float32')"
   ]
  },
  {
   "cell_type": "code",
   "execution_count": 34,
   "id": "61e233b0",
   "metadata": {},
   "outputs": [
    {
     "data": {
      "text/plain": [
       "(50, 173628)"
      ]
     },
     "execution_count": 34,
     "metadata": {},
     "output_type": "execute_result"
    }
   ],
   "source": [
    "mri.shape"
   ]
  },
  {
   "cell_type": "code",
   "execution_count": 35,
   "id": "8e040f5a",
   "metadata": {},
   "outputs": [],
   "source": [
    "# data_id = os.listdir('/data/qneuromark/Data/FBIRN/Data_BIDS/Raw_Data/')\n",
    "# path_list = []\n",
    "# for i in data_id:\n",
    "#     nii_path = '/data/qneuromark/Data/FBIRN/Data_BIDS/Raw_Data/' + i + '/ses_01/func/SM.nii'\n",
    "#     path_list.append(nii_path)\n",
    "\n",
    "b = nib.load('/data/users2/yxiao11/model/ICA/mri_data/template.nii.gz')"
   ]
  },
  {
   "cell_type": "code",
   "execution_count": 36,
   "id": "82427998",
   "metadata": {},
   "outputs": [],
   "source": [
    "a = mri.T\n",
    "a = a.reshape(53,63,52,50)"
   ]
  },
  {
   "cell_type": "code",
   "execution_count": 37,
   "id": "2f6b3a78",
   "metadata": {},
   "outputs": [],
   "source": [
    "nifiti = np.array(a)\n",
    "new_image = nib.Nifti1Image(nifiti, affine=b.affine, header=b.header)\n",
    "# nib.save(new_image, 'mri_data/adam_meanNN_' + str(dims_remain) +'_' + str(batch_size) + 'batch')\n",
    "nib.save(new_image, '/data/users2/yxiao11/model/ICA/mri_data/infonce_50.nii')"
   ]
  },
  {
   "cell_type": "code",
   "execution_count": 38,
   "id": "447529b9",
   "metadata": {},
   "outputs": [
    {
     "data": {
      "text/plain": [
       "1.0"
      ]
     },
     "execution_count": 38,
     "metadata": {},
     "output_type": "execute_result"
    }
   ],
   "source": [
    "a.max()"
   ]
  },
  {
   "cell_type": "code",
   "execution_count": 39,
   "id": "4449c4f4",
   "metadata": {},
   "outputs": [
    {
     "data": {
      "text/plain": [
       "-1.0"
      ]
     },
     "execution_count": 39,
     "metadata": {},
     "output_type": "execute_result"
    }
   ],
   "source": [
    "a.min()"
   ]
  },
  {
   "cell_type": "code",
   "execution_count": null,
   "id": "170e6006",
   "metadata": {},
   "outputs": [],
   "source": []
  }
 ],
 "metadata": {
  "kernelspec": {
   "display_name": "Python 3 (ipykernel)",
   "language": "python",
   "name": "python3"
  },
  "language_info": {
   "codemirror_mode": {
    "name": "ipython",
    "version": 3
   },
   "file_extension": ".py",
   "mimetype": "text/x-python",
   "name": "python",
   "nbconvert_exporter": "python",
   "pygments_lexer": "ipython3",
   "version": "3.7.16"
  }
 },
 "nbformat": 4,
 "nbformat_minor": 5
}
