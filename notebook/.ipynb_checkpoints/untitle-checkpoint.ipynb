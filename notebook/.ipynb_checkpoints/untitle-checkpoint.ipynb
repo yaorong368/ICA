{
 "cells": [
  {
   "cell_type": "code",
   "execution_count": 1,
   "id": "4c386f20",
   "metadata": {},
   "outputs": [],
   "source": [
    "import numpy as np\n",
    "import torch\n",
    "\n",
    "\n",
    "import matplotlib.pyplot as plt"
   ]
  },
  {
   "cell_type": "code",
   "execution_count": 54,
   "id": "405e4e63",
   "metadata": {},
   "outputs": [],
   "source": [
    "opt = torch.rand(1000,50)\n",
    "ipt_batch = torch.rand(1000,50)"
   ]
  },
  {
   "cell_type": "code",
   "execution_count": 55,
   "id": "b01f9a83",
   "metadata": {},
   "outputs": [],
   "source": [
    "\n",
    "def infonce(opt, ipt_batch, t=100):\n",
    "    \n",
    "    _, d = opt.shape\n",
    "    Ln = 0\n",
    "    for i in range(d):\n",
    "        \n",
    "        index = [x for x in range(d) if x!=i]\n",
    "        a = [torch.exp(torch.norm(ipt_batch.T@opt[:, k:k+1])/t) for k in index]\n",
    "        denominator = torch.stack(a).sum() + 1e-12\n",
    "\n",
    "        numerator = torch.exp(torch.norm(ipt_batch.T@opt[:, i:i+1])/t)\n",
    "        Ln += torch.log(numerator/denominator)\n",
    "    return Ln.sum()/d"
   ]
  },
  {
   "cell_type": "code",
   "execution_count": 56,
   "id": "9c0a0023",
   "metadata": {},
   "outputs": [],
   "source": [
    "def infonce1(opt, ipt_batch, t=100):\n",
    "    \n",
    "    _, d = opt.shape\n",
    "    \n",
    "    Ln = 0\n",
    "    for i in range(d):\n",
    "        index = [x for x in range(d) if x!=i]\n",
    "        denominator = torch.exp(torch.norm(ipt_batch.T@opt[:, index], dim=0)/t).sum() + 1e-12\n",
    "        \n",
    "        numerator = torch.exp(torch.norm(ipt_batch.T@opt[:, i:i+1])/t)\n",
    "        Ln += torch.log(numerator/denominator)\n",
    "    return Ln.sum()/d"
   ]
  },
  {
   "cell_type": "code",
   "execution_count": 80,
   "id": "194e833e",
   "metadata": {},
   "outputs": [],
   "source": [
    "def infonce2(opt, ipt_batch, t=100):\n",
    "    \n",
    "    _, d = opt.shape\n",
    "    \n",
    "    f = torch.exp(torch.norm(ipt_batch.T@opt, dim=0)/t)\n",
    "    Ln = 0\n",
    "    for i in range(d):\n",
    "        index = [x for x in range(d) if x!=i]\n",
    "        denominator = f[index].sum() + 1e-12\n",
    "        \n",
    "        numerator = f[i]\n",
    "        Ln += torch.log(numerator/denominator)\n",
    "    return Ln.sum()/d"
   ]
  },
  {
   "cell_type": "code",
   "execution_count": 81,
   "id": "0bde3436",
   "metadata": {},
   "outputs": [
    {
     "data": {
      "text/plain": [
       "tensor(-3.9400)"
      ]
     },
     "execution_count": 81,
     "metadata": {},
     "output_type": "execute_result"
    }
   ],
   "source": [
    "infonce1(opt,ipt_batch)"
   ]
  },
  {
   "cell_type": "code",
   "execution_count": 82,
   "id": "4fa02eb4",
   "metadata": {},
   "outputs": [
    {
     "data": {
      "text/plain": [
       "tensor(-3.9400)"
      ]
     },
     "execution_count": 82,
     "metadata": {},
     "output_type": "execute_result"
    }
   ],
   "source": [
    "infonce2(opt, ipt_batch)"
   ]
  },
  {
   "cell_type": "code",
   "execution_count": null,
   "id": "550c43a7",
   "metadata": {},
   "outputs": [],
   "source": []
  }
 ],
 "metadata": {
  "kernelspec": {
   "display_name": "Python 3 (ipykernel)",
   "language": "python",
   "name": "python3"
  },
  "language_info": {
   "codemirror_mode": {
    "name": "ipython",
    "version": 3
   },
   "file_extension": ".py",
   "mimetype": "text/x-python",
   "name": "python",
   "nbconvert_exporter": "python",
   "pygments_lexer": "ipython3",
   "version": "3.7.16"
  }
 },
 "nbformat": 4,
 "nbformat_minor": 5
}
